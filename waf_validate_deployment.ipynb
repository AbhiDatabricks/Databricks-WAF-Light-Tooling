{
 "cells": [
  {
   "cell_type": "markdown",
   "metadata": {
    "application/vnd.databricks.v1+cell": {
     "cellMetadata": {},
     "inputWidgets": {},
     "nuid": "eba020a8-af91-4b8c-bfd9-b3f617dc67b2",
     "showTitle": false,
     "tableResultSettingsMap": {},
     "title": ""
    }
   },
   "source": [
    "### Retrieve details from widget"
   ]
  },
  {
   "cell_type": "code",
   "execution_count": 0,
   "metadata": {
    "application/vnd.databricks.v1+cell": {
     "cellMetadata": {
      "byteLimit": 2048000,
      "rowLimit": 10000
     },
     "inputWidgets": {},
     "nuid": "27b1a1dc-e5bd-48e7-89f8-7f3d469285db",
     "showTitle": false,
     "tableResultSettingsMap": {},
     "title": ""
    }
   },
   "outputs": [],
   "source": [
    "dbutils.widgets.text(\"account_id\", \"\")\n",
    "dbutils.widgets.text(\"client_id\", \"\")\n",
    "dbutils.widgets.text(\"client_secret\", \"\")\n",
    "dbutils.widgets.text(\"sp_id\", \"\")"
   ]
  },
  {
   "cell_type": "code",
   "execution_count": 0,
   "metadata": {
    "application/vnd.databricks.v1+cell": {
     "cellMetadata": {
      "byteLimit": 2048000,
      "rowLimit": 10000
     },
     "inputWidgets": {},
     "nuid": "21acb383-35f3-428b-8875-c3fe147bc6e9",
     "showTitle": false,
     "tableResultSettingsMap": {},
     "title": ""
    }
   },
   "outputs": [],
   "source": [
    "account_id = dbutils.widgets.get(\"account_id\")\n",
    "client_id = dbutils.widgets.get(\"client_id\")\n",
    "client_secret = dbutils.widgets.get(\"client_secret\")\n",
    "spi_id = dbutils.widgets.get(\"sp_id\")"
   ]
  },
  {
   "cell_type": "markdown",
   "metadata": {
    "application/vnd.databricks.v1+cell": {
     "cellMetadata": {},
     "inputWidgets": {},
     "nuid": "bf15cbd4-216a-47c2-80eb-fa760d5f7cf5",
     "showTitle": false,
     "tableResultSettingsMap": {},
     "title": ""
    }
   },
   "source": [
    "## Check Service Principal Permissions"
   ]
  },
  {
   "cell_type": "code",
   "execution_count": 0,
   "metadata": {
    "application/vnd.databricks.v1+cell": {
     "cellMetadata": {
      "byteLimit": 2048000,
      "rowLimit": 10000
     },
     "inputWidgets": {},
     "nuid": "4ccea2a7-6f9a-4d72-b49b-de5021b44894",
     "showTitle": true,
     "tableResultSettingsMap": {},
     "title": "Instantiate Account Client"
    }
   },
   "outputs": [],
   "source": [
    "\n",
    "from databricks.sdk import AccountClient\n",
    "\n",
    "a = AccountClient(\n",
    "    host=\"https://accounts.cloud.databricks.com/\",\n",
    "    account_id= account_id,\n",
    "    client_id= client_id,\n",
    "    client_secret= client_secret\n",
    ")"
   ]
  },
  {
   "cell_type": "code",
   "execution_count": 0,
   "metadata": {
    "application/vnd.databricks.v1+cell": {
     "cellMetadata": {
      "byteLimit": 2048000,
      "rowLimit": 10000
     },
     "inputWidgets": {},
     "nuid": "0555c29f-3446-497c-b839-915fd10fa11c",
     "showTitle": true,
     "tableResultSettingsMap": {},
     "title": "Retrieve Service Principal Details"
    }
   },
   "outputs": [],
   "source": [
    "sp = a.service_principals.get(id=spi_id)"
   ]
  },
  {
   "cell_type": "code",
   "execution_count": 0,
   "metadata": {
    "application/vnd.databricks.v1+cell": {
     "cellMetadata": {
      "byteLimit": 2048000,
      "rowLimit": 10000
     },
     "inputWidgets": {},
     "nuid": "daf005cc-0b4a-4842-a928-f20444dacf1c",
     "showTitle": true,
     "tableResultSettingsMap": {},
     "title": "Check roles assigned to Service Principal"
    }
   },
   "outputs": [],
   "source": [
    "roles = [r.value for r in sp.roles]\n",
    "\n",
    "isAdmin = False\n",
    "for role in roles:\n",
    "    if role == \"account_admin\":\n",
    "        isAdmin = True\n",
    "        break\n",
    "\n",
    "print(f\"SP Is Admin: {isAdmin}\")"
   ]
  },
  {
   "cell_type": "markdown",
   "metadata": {
    "application/vnd.databricks.v1+cell": {
     "cellMetadata": {},
     "inputWidgets": {},
     "nuid": "2d850b3d-8c07-44d8-ad6e-084b469a037e",
     "showTitle": false,
     "tableResultSettingsMap": {},
     "title": ""
    }
   },
   "source": [
    "## Check if Dashboard Exists"
   ]
  },
  {
   "cell_type": "code",
   "execution_count": 0,
   "metadata": {
    "application/vnd.databricks.v1+cell": {
     "cellMetadata": {
      "byteLimit": 2048000,
      "rowLimit": 10000
     },
     "inputWidgets": {},
     "nuid": "3aca247c-35c1-467b-a176-ac25eccab5e2",
     "showTitle": false,
     "tableResultSettingsMap": {},
     "title": ""
    }
   },
   "outputs": [],
   "source": [
    "from databricks.sdk import WorkspaceClient\n",
    "\n",
    "# Initialize the Workspace client (uses notebook default auth)\n",
    "w = WorkspaceClient()\n",
    "\n",
    "# Widget to input the dashboard name you want to check\n",
    "# dbutils.widgets.text(\"dashboard_name\", \"\", \"Dashboard Name\")\n",
    "# dashboard_name = dbutils.widgets.get(\"dashboard_name\")\n",
    "dashboard_name = \"[SAT] Security Analysis Tool - Assessment Results\"\n",
    "\n",
    "# Build and send the list request with a search term\n",
    "dashboards = w.lakeview.list()\n",
    "\n",
    "# Iterate and check for exact name match\n",
    "found = False\n",
    "for dash in dashboards:\n",
    "    if dash.display_name == dashboard_name:\n",
    "        print(f\"Found dashboard '{dashboard_name}' with ID: {dash.dashboard_id}\")\n",
    "        found = True\n",
    "        break\n",
    "\n",
    "if not found:\n",
    "    print(f\"Dashboard '{dashboard_name}' does not exist.\")"
   ]
  },
  {
   "cell_type": "markdown",
   "metadata": {
    "application/vnd.databricks.v1+cell": {
     "cellMetadata": {},
     "inputWidgets": {},
     "nuid": "a92e6712-2342-412e-aaff-fc5741fdfeb8",
     "showTitle": false,
     "tableResultSettingsMap": {},
     "title": ""
    }
   },
   "source": [
    "## Send Confirmation [TBD]"
   ]
  },
  {
   "cell_type": "code",
   "execution_count": 0,
   "metadata": {
    "application/vnd.databricks.v1+cell": {
     "cellMetadata": {},
     "inputWidgets": {},
     "nuid": "2da2b6b2-fae2-481c-a727-5b9b942ce3af",
     "showTitle": false,
     "tableResultSettingsMap": {},
     "title": ""
    }
   },
   "outputs": [],
   "source": []
  }
 ],
 "metadata": {
  "application/vnd.databricks.v1+notebook": {
   "computePreferences": null,
   "dashboards": [],
   "environmentMetadata": {
    "base_environment": "",
    "environment_version": "2"
   },
   "inputWidgetPreferences": null,
   "language": "python",
   "notebookMetadata": {
    "pythonIndentUnit": 4
   },
   "notebookName": "waf_validate_deployment",
   "widgets": {
    "account_id": {
     "currentValue": "1ea9cbc2-6c6f-443b-9a35-deb3e36959c5",
     "nuid": "9f4c7ec8-2673-4ff1-aeb3-67b3853dc5a4",
     "typedWidgetInfo": {
      "autoCreated": false,
      "defaultValue": "",
      "label": null,
      "name": "account_id",
      "options": {
       "widgetDisplayType": "Text",
       "validationRegex": null
      },
      "parameterDataType": "String"
     },
     "widgetInfo": {
      "widgetType": "text",
      "defaultValue": "",
      "label": null,
      "name": "account_id",
      "options": {
       "widgetType": "text",
       "autoCreated": null,
       "validationRegex": null
      }
     }
    },
    "client_id": {
     "currentValue": "ceba1821-b2f2-410b-b97b-c8dcb96c7238",
     "nuid": "e7d931d2-8255-45de-ad3a-fee81969e25d",
     "typedWidgetInfo": {
      "autoCreated": false,
      "defaultValue": "",
      "label": null,
      "name": "client_id",
      "options": {
       "widgetDisplayType": "Text",
       "validationRegex": null
      },
      "parameterDataType": "String"
     },
     "widgetInfo": {
      "widgetType": "text",
      "defaultValue": "",
      "label": null,
      "name": "client_id",
      "options": {
       "widgetType": "text",
       "autoCreated": null,
       "validationRegex": null
      }
     }
    },
    "client_secret": {
     "currentValue": "dose36d02cad2304d285515dd96848d29c02",
     "nuid": "8f1985ab-b29e-44aa-997d-f6c799c970c0",
     "typedWidgetInfo": {
      "autoCreated": false,
      "defaultValue": "",
      "label": null,
      "name": "client_secret",
      "options": {
       "widgetDisplayType": "Text",
       "validationRegex": null
      },
      "parameterDataType": "String"
     },
     "widgetInfo": {
      "widgetType": "text",
      "defaultValue": "",
      "label": null,
      "name": "client_secret",
      "options": {
       "widgetType": "text",
       "autoCreated": null,
       "validationRegex": null
      }
     }
    },
    "sp_id": {
     "currentValue": "6009391670726127",
     "nuid": "229b4027-c855-403f-a492-758d5117c7b0",
     "typedWidgetInfo": {
      "autoCreated": false,
      "defaultValue": "",
      "label": null,
      "name": "sp_id",
      "options": {
       "widgetDisplayType": "Text",
       "validationRegex": null
      },
      "parameterDataType": "String"
     },
     "widgetInfo": {
      "widgetType": "text",
      "defaultValue": "",
      "label": null,
      "name": "sp_id",
      "options": {
       "widgetType": "text",
       "autoCreated": null,
       "validationRegex": null
      }
     }
    }
   }
  },
  "language_info": {
   "name": "python"
  }
 },
 "nbformat": 4,
 "nbformat_minor": 0
}
