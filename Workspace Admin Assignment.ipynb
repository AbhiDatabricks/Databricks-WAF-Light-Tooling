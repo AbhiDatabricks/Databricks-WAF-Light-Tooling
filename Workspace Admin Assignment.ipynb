{
 "cells": [
  {
   "cell_type": "code",
   "execution_count": 0,
   "metadata": {
    "application/vnd.databricks.v1+cell": {
     "cellMetadata": {
      "byteLimit": 2048000,
      "rowLimit": 10000
     },
     "inputWidgets": {},
     "nuid": "4c212d0c-6451-48b8-936d-67844d93fd55",
     "showTitle": true,
     "tableResultSettingsMap": {},
     "title": "Install Databricks SDK Upgrade"
    }
   },
   "outputs": [],
   "source": [
    "%pip install --upgrade databricks-sdk\n",
    "dbutils.library.restartPython()"
   ]
  },
  {
   "cell_type": "code",
   "execution_count": 0,
   "metadata": {
    "application/vnd.databricks.v1+cell": {
     "cellMetadata": {
      "byteLimit": 2048000,
      "rowLimit": 10000
     },
     "inputWidgets": {},
     "nuid": "5ff1707a-76a9-4345-9c85-4e5ca6809644",
     "showTitle": false,
     "tableResultSettingsMap": {},
     "title": "Connect to Databricks Account API"
    },
    "jupyter": {
     "outputs_hidden": true,
     "source_hidden": true
    }
   },
   "outputs": [],
   "source": [
    "# from databricks.sdk import AccountClient\n",
    "# a = AccountClient(\n",
    "# host=\"https://accounts.cloud.databricks.com/\",\n",
    "# account_id='****',\n",
    "# client_id='****',\n",
    "# client_secret='****'\n",
    "# )"
   ]
  },
  {
   "cell_type": "code",
   "execution_count": 0,
   "metadata": {
    "application/vnd.databricks.v1+cell": {
     "cellMetadata": {
      "byteLimit": 2048000,
      "rowLimit": 10000
     },
     "inputWidgets": {},
     "nuid": "31b36c6d-6ed2-4bd7-b79d-816f2a5ecc2f",
     "showTitle": true,
     "tableResultSettingsMap": {},
     "title": "Connect to Databricks Account API"
    }
   },
   "outputs": [],
   "source": [
    "from databricks.sdk import AccountClient\n",
    "a = AccountClient(\n",
    "host=\"https://accounts.cloud.databricks.com/\",\n",
    "account_id= dbutils.widgets.get(\"account_id\"),\n",
    "client_id= dbutils.widgets.get(\"client_id\"),\n",
    "client_secret= dbutils.widgets.get(\"client_secret\")\n",
    ")"
   ]
  },
  {
   "cell_type": "code",
   "execution_count": 0,
   "metadata": {
    "application/vnd.databricks.v1+cell": {
     "cellMetadata": {
      "byteLimit": 2048000,
      "rowLimit": 10000
     },
     "inputWidgets": {},
     "nuid": "e92eca24-f778-47c6-adfb-d072b25bd965",
     "showTitle": false,
     "tableResultSettingsMap": {},
     "title": "Create Service Principal with SDK Timestamp"
    },
    "jupyter": {
     "outputs_hidden": true,
     "source_hidden": true
    }
   },
   "outputs": [],
   "source": [
    "# import time\n",
    "\n",
    "# sp = a.service_principals.create(display_name=f\"sdk-{time.time_ns()}\")\n",
    "# sp_id = sp.id"
   ]
  },
  {
   "cell_type": "code",
   "execution_count": 0,
   "metadata": {
    "application/vnd.databricks.v1+cell": {
     "cellMetadata": {
      "byteLimit": 2048000,
      "rowLimit": 10000
     },
     "inputWidgets": {},
     "nuid": "61faf9b8-d030-4c9b-a192-3e2f67bf0182",
     "showTitle": false,
     "tableResultSettingsMap": {},
     "title": ""
    }
   },
   "outputs": [],
   "source": [
    "sp_id = dbutils.widgets.get(\"sp_id\")\n",
    "print(sp_id)"
   ]
  },
  {
   "cell_type": "code",
   "execution_count": 0,
   "metadata": {
    "application/vnd.databricks.v1+cell": {
     "cellMetadata": {
      "byteLimit": 2048000,
      "rowLimit": 10000
     },
     "inputWidgets": {},
     "nuid": "463b1104-12d7-4d92-ba0e-218a009d9be4",
     "showTitle": true,
     "tableResultSettingsMap": {},
     "title": "Update Workspace Admin Assignment"
    }
   },
   "outputs": [],
   "source": [
    "from databricks.sdk.service import iam\n",
    "\n",
    "def update_workspace_assignment(workspace_id, sp_id):\n",
    "    _ = a.workspace_assignment.update(\n",
    "        workspace_id=workspace_id,\n",
    "        principal_id=sp_id,\n",
    "        permissions=[iam.WorkspacePermission.ADMIN],\n",
    "    )"
   ]
  },
  {
   "cell_type": "code",
   "execution_count": 0,
   "metadata": {
    "application/vnd.databricks.v1+cell": {
     "cellMetadata": {
      "byteLimit": 2048000,
      "rowLimit": 10000
     },
     "inputWidgets": {},
     "nuid": "0bda15b9-1483-4013-8a9e-1461109e6a17",
     "showTitle": true,
     "tableResultSettingsMap": {},
     "title": "List All Workspaces"
    }
   },
   "outputs": [],
   "source": [
    "all_workspaces = a.workspaces.list()"
   ]
  },
  {
   "cell_type": "code",
   "execution_count": 0,
   "metadata": {
    "application/vnd.databricks.v1+cell": {
     "cellMetadata": {
      "byteLimit": 2048000,
      "rowLimit": 10000
     },
     "inputWidgets": {},
     "nuid": "658b0c8a-a082-4f0e-a9c7-a99fcd5ad6df",
     "showTitle": true,
     "tableResultSettingsMap": {},
     "title": "Update Workspace Assignments"
    }
   },
   "outputs": [],
   "source": [
    "for workspace in all_workspaces:\n",
    "    update_workspace_assignment(workspace.workspace_id, sp_id)"
   ]
  }
 ],
 "metadata": {
  "application/vnd.databricks.v1+notebook": {
   "computePreferences": null,
   "dashboards": [],
   "environmentMetadata": {
    "base_environment": "",
    "environment_version": "2"
   },
   "inputWidgetPreferences": null,
   "language": "python",
   "notebookMetadata": {
    "pythonIndentUnit": 4
   },
   "notebookName": "Workspace Admin Assignment",
   "widgets": {
    "account_id": {
     "currentValue": "",
     "nuid": "c085d901-5f8c-468a-add2-b9269d16b115",
     "typedWidgetInfo": {
      "autoCreated": false,
      "defaultValue": "",
      "label": "Account ID",
      "name": "account_id",
      "options": {
       "widgetDisplayType": "Text",
       "validationRegex": null
      },
      "parameterDataType": "String"
     },
     "widgetInfo": {
      "widgetType": "text",
      "defaultValue": "",
      "label": "Account ID",
      "name": "account_id",
      "options": {
       "widgetType": "text",
       "autoCreated": false,
       "validationRegex": null
      }
     }
    },
    "client_id": {
     "currentValue": "",
     "nuid": "a434ab99-6e3f-4ae8-9511-ff039abad826",
     "typedWidgetInfo": {
      "autoCreated": false,
      "defaultValue": "",
      "label": "Client ID",
      "name": "client_id",
      "options": {
       "widgetDisplayType": "Text",
       "validationRegex": null
      },
      "parameterDataType": "String"
     },
     "widgetInfo": {
      "widgetType": "text",
      "defaultValue": "",
      "label": "Client ID",
      "name": "client_id",
      "options": {
       "widgetType": "text",
       "autoCreated": false,
       "validationRegex": null
      }
     }
    },
    "client_secret": {
     "currentValue": "",
     "nuid": "3f246cf9-741a-4da8-835d-35e8275fd0fc",
     "typedWidgetInfo": {
      "autoCreated": false,
      "defaultValue": "",
      "label": "Client Secret",
      "name": "client_secret",
      "options": {
       "widgetDisplayType": "Text",
       "validationRegex": null
      },
      "parameterDataType": "String"
     },
     "widgetInfo": {
      "widgetType": "text",
      "defaultValue": "",
      "label": "Client Secret",
      "name": "client_secret",
      "options": {
       "widgetType": "text",
       "autoCreated": false,
       "validationRegex": null
      }
     }
    },
    "sp_id": {
     "currentValue": "",
     "nuid": "0194caa9-6122-4d10-a0dc-76c84c38522f",
     "typedWidgetInfo": {
      "autoCreated": false,
      "defaultValue": "",
      "label": "Service Principal ID",
      "name": "sp_id",
      "options": {
       "widgetDisplayType": "Text",
       "validationRegex": null
      },
      "parameterDataType": "String"
     },
     "widgetInfo": {
      "widgetType": "text",
      "defaultValue": "",
      "label": "Service Principal ID",
      "name": "sp_id",
      "options": {
       "widgetType": "text",
       "autoCreated": false,
       "validationRegex": null
      }
     }
    }
   }
  },
  "language_info": {
   "name": "python"
  }
 },
 "nbformat": 4,
 "nbformat_minor": 0
}
