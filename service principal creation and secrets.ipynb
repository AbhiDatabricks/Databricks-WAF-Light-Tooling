{
 "cells": [
  {
   "cell_type": "markdown",
   "metadata": {
    "application/vnd.databricks.v1+cell": {
     "cellMetadata": {},
     "inputWidgets": {},
     "nuid": "8f42fdb4-68e3-4b44-9fe8-c604aa5343f5",
     "showTitle": false,
     "tableResultSettingsMap": {},
     "title": ""
    }
   },
   "source": [
    "#Inputs: \n",
    "Databricks Account ID  \n",
    "Databricks client ID  \n",
    "Databricks Client Secret  \n",
    "Databricks Service Credential for interaction with AWS secrets manager  \n",
    "Secrets Manager Region  \n",
    "AWS secrets ARN (optional)  "
   ]
  },
  {
   "cell_type": "code",
   "execution_count": null,
   "metadata": {
    "application/vnd.databricks.v1+cell": {
     "cellMetadata": {
      "byteLimit": 2048000,
      "rowLimit": 10000
     },
     "inputWidgets": {},
     "nuid": "4c212d0c-6451-48b8-936d-67844d93fd55",
     "showTitle": true,
     "tableResultSettingsMap": {},
     "title": "Install Databricks SDK Upgrade"
    }
   },
   "outputs": [],
   "source": [
    "%pip install --upgrade databricks-sdk boto3\n",
    "dbutils.library.restartPython()"
   ]
  },
  {
   "cell_type": "code",
   "execution_count": null,
   "metadata": {
    "application/vnd.databricks.v1+cell": {
     "cellMetadata": {
      "byteLimit": 2048000,
      "rowLimit": 10000
     },
     "inputWidgets": {},
     "nuid": "9e6badc7-6f8b-482a-abfc-caa8411aea71",
     "showTitle": false,
     "tableResultSettingsMap": {},
     "title": ""
    }
   },
   "outputs": [],
   "source": [
    "dbutils.widgets.text(\"secrets_manager_service_credential\", \"\")\n",
    "dbutils.widgets.text(\"secrets_manager_region\", \"\")\n",
    "dbutils.widgets.text(\"account_id\", \"\")\n",
    "dbutils.widgets.text(\"client_id\", \"\")\n",
    "dbutils.widgets.text(\"client_secret\", \"\")\n",
    "dbutils.widgets.text(\"aws_secret_arn\", \"\")"
   ]
  },
  {
   "cell_type": "code",
   "execution_count": null,
   "metadata": {
    "application/vnd.databricks.v1+cell": {
     "cellMetadata": {
      "byteLimit": 2048000,
      "rowLimit": 10000
     },
     "inputWidgets": {},
     "nuid": "5ff1707a-76a9-4345-9c85-4e5ca6809644",
     "showTitle": false,
     "tableResultSettingsMap": {},
     "title": "Connect to Databricks Account API"
    }
   },
   "outputs": [],
   "source": [
    "import boto3\n",
    "\n",
    "secrets_manager_service_credential = dbutils.widgets.get(\"secrets_manager_service_credential\")\n",
    "secrets_manager_region = dbutils.widgets.get(\"secrets_manager_region\")\n",
    "\n",
    "\n",
    "\n",
    "boto3_session = boto3.Session(botocore_session=dbutils.credentials.getServiceCredentialsProvider(secrets_manager_service_credential ), region_name=secrets_manager_region)\n",
    "sm = boto3_session.client('secretsmanager')"
   ]
  },
  {
   "cell_type": "code",
   "execution_count": null,
   "metadata": {
    "application/vnd.databricks.v1+cell": {
     "cellMetadata": {
      "byteLimit": 2048000,
      "rowLimit": 10000
     },
     "inputWidgets": {},
     "nuid": "31b36c6d-6ed2-4bd7-b79d-816f2a5ecc2f",
     "showTitle": true,
     "tableResultSettingsMap": {},
     "title": "Connect to Databricks Account API"
    }
   },
   "outputs": [],
   "source": [
    "from databricks.sdk import AccountClient\n",
    "\n",
    "a = AccountClient(\n",
    "host=\"https://accounts.cloud.databricks.com/\",\n",
    "account_id= dbutils.widgets.get(\"account_id\"),\n",
    "client_id= dbutils.widgets.get(\"client_id\"),\n",
    "client_secret= dbutils.widgets.get(\"client_secret\")\n",
    ")"
   ]
  },
  {
   "cell_type": "code",
   "execution_count": null,
   "metadata": {
    "application/vnd.databricks.v1+cell": {
     "cellMetadata": {
      "byteLimit": 2048000,
      "rowLimit": 10000
     },
     "inputWidgets": {},
     "nuid": "ef7fef14-eb61-471a-b861-803a59af6343",
     "showTitle": false,
     "tableResultSettingsMap": {},
     "title": ""
    }
   },
   "outputs": [],
   "source": [
    "import time\n",
    "sp = a.service_principals.create(\n",
    "    active = True,\n",
    "    display_name=f\"sdk-{time.time_ns()}\"\n",
    "    )"
   ]
  },
  {
   "cell_type": "code",
   "execution_count": null,
   "metadata": {
    "application/vnd.databricks.v1+cell": {
     "cellMetadata": {
      "byteLimit": 2048000,
      "rowLimit": 10000
     },
     "inputWidgets": {},
     "nuid": "4a9ec4f9-6082-478b-a03d-37522c06a4ad",
     "showTitle": false,
     "tableResultSettingsMap": {},
     "title": ""
    }
   },
   "outputs": [],
   "source": [
    "\n",
    "sp_oauth_secret = a.service_principal_secrets.create(sp.id)\n",
    "sp_oauth_secret_dict= sp_oauth_secret.as_dict()"
   ]
  },
  {
   "cell_type": "code",
   "execution_count": null,
   "metadata": {
    "application/vnd.databricks.v1+cell": {
     "cellMetadata": {
      "byteLimit": 2048000,
      "rowLimit": 10000
     },
     "inputWidgets": {},
     "nuid": "bece6880-b102-4583-a6ae-6f954fec04dd",
     "showTitle": false,
     "tableResultSettingsMap": {},
     "title": ""
    }
   },
   "outputs": [],
   "source": [
    "def generate_secret_name(prefix):\n",
    "    return f\"{prefix}-{time.time_ns()}\"\n",
    "aws_secret_arn = dbutils.widgets.get(\"aws_secret_arn\")\n",
    "\n",
    "if aws_secret_arn == None or aws_secret_arn == \"\":\n",
    "    try: \n",
    "        aws_secret = sm.create_secret(Name=generate_secret_name(\"databricks_waf\"), SecretString=json.dumps(sp_oauth_secret_dict))\n",
    "        aws_secret_arn = aws_secret.get(\"ARN\")\n",
    "    except Exception as error:\n",
    "        print(f'could not create the secret in AWS Secrets Manager: {error}')\n",
    "        raise \n",
    "else:\n",
    "    try: sm.put_secret_value(SecretId=aws_secret_arn, SecretString=json.dumps(secrets_dict))\n",
    "    except Exception as error:\n",
    "        print(f'could not update secret {aws_secret_arn} in AWS: {error}')\n",
    "        raise \n",
    "\n",
    "\n",
    "\n",
    "\n"
   ]
  },
  {
   "cell_type": "code",
   "execution_count": null,
   "metadata": {
    "application/vnd.databricks.v1+cell": {
     "cellMetadata": {
      "byteLimit": 2048000,
      "rowLimit": 10000
     },
     "inputWidgets": {},
     "nuid": "6d39034d-9a00-42d9-8aaa-9cef3f25d25c",
     "showTitle": false,
     "tableResultSettingsMap": {},
     "title": ""
    }
   },
   "outputs": [],
   "source": [
    "output = {\n",
    "    'sp_id': sp.id\n",
    "    'aws_secret_arn': aws_secret_arn\n",
    "}"
   ]
  }
 ],
 "metadata": {
  "application/vnd.databricks.v1+notebook": {
   "computePreferences": null,
   "dashboards": [],
   "environmentMetadata": {
    "base_environment": "",
    "environment_version": "2"
   },
   "inputWidgetPreferences": null,
   "language": "python",
   "notebookMetadata": {
    "pythonIndentUnit": 4
   },
   "notebookName": "Service pricipal creation + secrets",
   "widgets": {
    "account_id": {
     "currentValue": "",
     "nuid": "c085d901-5f8c-468a-add2-b9269d16b115",
     "typedWidgetInfo": {
      "autoCreated": false,
      "defaultValue": "",
      "label": null,
      "name": "account_id",
      "options": {
       "validationRegex": null,
       "widgetDisplayType": "Text"
      },
      "parameterDataType": "String"
     },
     "widgetInfo": {
      "defaultValue": "",
      "label": null,
      "name": "account_id",
      "options": {
       "autoCreated": null,
       "validationRegex": null,
       "widgetType": "text"
      },
      "widgetType": "text"
     }
    },
    "aws_secret_arn": {
     "currentValue": "",
     "nuid": "bd5ff9ea-baae-4e05-9df8-7e622ebc81d2",
     "typedWidgetInfo": {
      "autoCreated": false,
      "defaultValue": "",
      "label": "",
      "name": "aws_secret_arn",
      "options": {
       "validationRegex": null,
       "widgetDisplayType": "Text"
      },
      "parameterDataType": "String"
     },
     "widgetInfo": {
      "defaultValue": "",
      "label": "",
      "name": "aws_secret_arn",
      "options": {
       "autoCreated": false,
       "validationRegex": null,
       "widgetType": "text"
      },
      "widgetType": "text"
     }
    },
    "client_id": {
     "currentValue": "",
     "nuid": "a434ab99-6e3f-4ae8-9511-ff039abad826",
     "typedWidgetInfo": {
      "autoCreated": false,
      "defaultValue": "",
      "label": null,
      "name": "client_id",
      "options": {
       "validationRegex": null,
       "widgetDisplayType": "Text"
      },
      "parameterDataType": "String"
     },
     "widgetInfo": {
      "defaultValue": "",
      "label": null,
      "name": "client_id",
      "options": {
       "autoCreated": null,
       "validationRegex": null,
       "widgetType": "text"
      },
      "widgetType": "text"
     }
    },
    "client_secret": {
     "currentValue": "",
     "nuid": "3f246cf9-741a-4da8-835d-35e8275fd0fc",
     "typedWidgetInfo": {
      "autoCreated": false,
      "defaultValue": "",
      "label": null,
      "name": "client_secret",
      "options": {
       "validationRegex": null,
       "widgetDisplayType": "Text"
      },
      "parameterDataType": "String"
     },
     "widgetInfo": {
      "defaultValue": "",
      "label": null,
      "name": "client_secret",
      "options": {
       "autoCreated": null,
       "validationRegex": null,
       "widgetType": "text"
      },
      "widgetType": "text"
     }
    },
    "secrets_manager_region": {
     "currentValue": "",
     "nuid": "1468cb9a-9290-4a99-bd6f-ceba16cba670",
     "typedWidgetInfo": {
      "autoCreated": false,
      "defaultValue": "",
      "label": null,
      "name": "secrets_manager_region",
      "options": {
       "validationRegex": null,
       "widgetDisplayType": "Text"
      },
      "parameterDataType": "String"
     },
     "widgetInfo": {
      "defaultValue": "",
      "label": null,
      "name": "secrets_manager_region",
      "options": {
       "autoCreated": null,
       "validationRegex": null,
       "widgetType": "text"
      },
      "widgetType": "text"
     }
    },
    "secrets_manager_service_credential": {
     "currentValue": "",
     "nuid": "57c18ab9-ce0b-4382-8b5e-0525e5229c6d",
     "typedWidgetInfo": {
      "autoCreated": false,
      "defaultValue": "",
      "label": null,
      "name": "secrets_manager_service_credential",
      "options": {
       "validationRegex": null,
       "widgetDisplayType": "Text"
      },
      "parameterDataType": "String"
     },
     "widgetInfo": {
      "defaultValue": "",
      "label": null,
      "name": "secrets_manager_service_credential",
      "options": {
       "autoCreated": null,
       "validationRegex": null,
       "widgetType": "text"
      },
      "widgetType": "text"
     }
    }
   }
  },
  "kernelspec": {
   "display_name": "Python 3",
   "language": "python",
   "name": "python3"
  },
  "language_info": {
   "name": "python",
   "version": "3.12.6 (main, Sep  6 2024, 19:03:47) [Clang 15.0.0 (clang-1500.3.9.4)]"
  },
  "vscode": {
   "interpreter": {
    "hash": "b0fa6594d8f4cbf19f97940f81e996739fb7646882a419484c72d19e05852a7e"
   }
  }
 },
 "nbformat": 4,
 "nbformat_minor": 0
}
