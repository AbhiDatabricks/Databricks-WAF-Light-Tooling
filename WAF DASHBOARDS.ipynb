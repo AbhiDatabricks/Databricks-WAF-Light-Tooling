{
 "cells": [
  {
   "cell_type": "code",
   "execution_count": 0,
   "metadata": {
    "application/vnd.databricks.v1+cell": {
     "cellMetadata": {
      "byteLimit": 2048000,
      "rowLimit": 10000
     },
     "inputWidgets": {},
     "nuid": "16850c79-c080-4a33-95d0-b7acba5fa04d",
     "showTitle": false,
     "tableResultSettingsMap": {},
     "title": ""
    }
   },
   "outputs": [],
   "source": [
    "# If notebook is in the repo root, and dashboard is in dashboards/\n",
    "import os, json, base64, requests\n",
    "\n",
    "# Get user and context info\n",
    "user = spark.sql(\"SELECT current_user()\").collect()[0][0]\n",
    "ctx = dbutils.notebook.entry_point.getDbutils().notebook().getContext()\n",
    "api_url = ctx.apiUrl().get()\n",
    "token = ctx.apiToken().get()"
   ]
  },
  {
   "cell_type": "code",
   "execution_count": 0,
   "metadata": {
    "application/vnd.databricks.v1+cell": {
     "cellMetadata": {
      "byteLimit": 2048000,
      "rowLimit": 10000
     },
     "inputWidgets": {},
     "nuid": "f4dd3c35-2614-4d90-bd16-4f7d0cd43a35",
     "showTitle": false,
     "tableResultSettingsMap": {},
     "title": ""
    }
   },
   "outputs": [],
   "source": [
    "\n",
    "\n",
    "# Read all .lvdash.json files from local workspace repo\n",
    "dashboard_folder = \"./dashboards\"\n",
    "for fname in os.listdir(dashboard_folder):\n",
    "    if fname.endswith(\".lvdash.json\"):\n",
    "        dashboard_name = fname.replace(\".lvdash.json\", \"\")\n",
    "        target_path = f\"/Users/{user}/Databricks-WAF-Auto/dashboards/{dashboard_name}\"\n",
    "\n",
    "        with open(os.path.join(dashboard_folder, fname), \"r\", encoding=\"utf-8\") as f:\n",
    "            content = f.read()\n",
    "\n",
    "        encoded = base64.b64encode(content.encode(\"utf-8\")).decode(\"utf-8\")\n",
    "\n",
    "        response = requests.post(\n",
    "            url=f\"{api_url}/api/2.0/workspace/import\",\n",
    "            headers={\n",
    "                \"Authorization\": f\"Bearer {token}\",\n",
    "                \"Content-Type\": \"application/json\"\n",
    "            },\n",
    "            json={\n",
    "                \"path\": target_path,\n",
    "                \"format\": \"SOURCE\",\n",
    "                \"language\": \"SQL\",\n",
    "                \"overwrite\": True,\n",
    "                \"content\": encoded\n",
    "            }\n",
    "        )\n",
    "\n",
    "        if response.status_code == 200:\n",
    "            print(f\"✅ Imported: {target_path}\")\n",
    "        else:\n",
    "            print(f\"❌ Failed: {target_path} — {response.status_code}\")\n",
    "            print(response.text[:300])\n"
   ]
  }
 ],
 "metadata": {
  "application/vnd.databricks.v1+notebook": {
   "computePreferences": null,
   "dashboards": [],
   "environmentMetadata": {
    "base_environment": "",
    "environment_version": "2"
   },
   "inputWidgetPreferences": null,
   "language": "python",
   "notebookMetadata": {
    "pythonIndentUnit": 4
   },
   "notebookName": "WAF DASHBOARDS",
   "widgets": {}
  },
  "language_info": {
   "name": "python"
  }
 },
 "nbformat": 4,
 "nbformat_minor": 0
}
